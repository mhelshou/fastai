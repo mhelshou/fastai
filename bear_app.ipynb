{
  "nbformat": 4,
  "nbformat_minor": 0,
  "metadata": {
    "colab": {
      "name": "bear_app.ipynb",
      "provenance": [],
      "collapsed_sections": [],
      "authorship_tag": "ABX9TyNaFwnRpBn0MCO1IB6s6i8B",
      "include_colab_link": true
    },
    "kernelspec": {
      "name": "python3",
      "display_name": "Python 3"
    },
    "language_info": {
      "name": "python"
    },
    "widgets": {
      "application/vnd.jupyter.widget-state+json": {
        "c4e775b561f944eb9336966781928382": {
          "model_module": "@jupyter-widgets/controls",
          "model_name": "VBoxModel",
          "state": {
            "_view_name": "VBoxView",
            "_dom_classes": [],
            "_model_name": "VBoxModel",
            "_view_module": "@jupyter-widgets/controls",
            "_model_module_version": "1.5.0",
            "_view_count": null,
            "_view_module_version": "1.5.0",
            "box_style": "",
            "layout": "IPY_MODEL_ebe1e2d9e24b44778e53d4d0599e713a",
            "_model_module": "@jupyter-widgets/controls",
            "children": [
              "IPY_MODEL_334815c47f704bd483a6487eebc507be",
              "IPY_MODEL_7297a45dc6204c159e57c405ddf1cdae",
              "IPY_MODEL_9da183bbc33044e8bc3f9c1635c62be3",
              "IPY_MODEL_1f8dab1582024671bf845eda881add4c",
              "IPY_MODEL_baf8e625967f4625854f018ac19e31a7"
            ]
          }
        },
        "ebe1e2d9e24b44778e53d4d0599e713a": {
          "model_module": "@jupyter-widgets/base",
          "model_name": "LayoutModel",
          "state": {
            "_view_name": "LayoutView",
            "grid_template_rows": null,
            "right": null,
            "justify_content": null,
            "_view_module": "@jupyter-widgets/base",
            "overflow": null,
            "_model_module_version": "1.2.0",
            "_view_count": null,
            "flex_flow": null,
            "width": null,
            "min_width": null,
            "border": null,
            "align_items": null,
            "bottom": null,
            "_model_module": "@jupyter-widgets/base",
            "top": null,
            "grid_column": null,
            "overflow_y": null,
            "overflow_x": null,
            "grid_auto_flow": null,
            "grid_area": null,
            "grid_template_columns": null,
            "flex": null,
            "_model_name": "LayoutModel",
            "justify_items": null,
            "grid_row": null,
            "max_height": null,
            "align_content": null,
            "visibility": null,
            "align_self": null,
            "height": null,
            "min_height": null,
            "padding": null,
            "grid_auto_rows": null,
            "grid_gap": null,
            "max_width": null,
            "order": null,
            "_view_module_version": "1.2.0",
            "grid_template_areas": null,
            "object_position": null,
            "object_fit": null,
            "grid_auto_columns": null,
            "margin": null,
            "display": null,
            "left": null
          }
        },
        "334815c47f704bd483a6487eebc507be": {
          "model_module": "@jupyter-widgets/controls",
          "model_name": "LabelModel",
          "state": {
            "_view_name": "LabelView",
            "style": "IPY_MODEL_53d67d62dffc4e258f45ee5d646cbdfd",
            "_dom_classes": [],
            "description": "",
            "_model_name": "LabelModel",
            "placeholder": "​",
            "_view_module": "@jupyter-widgets/controls",
            "_model_module_version": "1.5.0",
            "value": "Select your bear!",
            "_view_count": null,
            "_view_module_version": "1.5.0",
            "description_tooltip": null,
            "_model_module": "@jupyter-widgets/controls",
            "layout": "IPY_MODEL_3acc42a09725446288e28800b7a94b28"
          }
        },
        "7297a45dc6204c159e57c405ddf1cdae": {
          "model_module": "@jupyter-widgets/controls",
          "model_name": "FileUploadModel",
          "state": {
            "_view_name": "FileUploadView",
            "_counter": 1,
            "style": "IPY_MODEL_3bc7fe6d26df43eb9f7a8653cbc960e5",
            "_dom_classes": [],
            "description": "Upload",
            "multiple": false,
            "_model_name": "FileUploadModel",
            "data": [
              null
            ],
            "button_style": "",
            "_view_module": "@jupyter-widgets/controls",
            "_model_module_version": "1.5.0",
            "accept": "",
            "_view_count": null,
            "disabled": false,
            "_view_module_version": "1.5.0",
            "error": "",
            "description_tooltip": null,
            "metadata": [
              {
                "name": "AR-01786-2.jpg",
                "type": "image/jpeg",
                "size": 147308,
                "lastModified": 1616192073296
              }
            ],
            "_model_module": "@jupyter-widgets/controls",
            "layout": "IPY_MODEL_41880380a1f548d390b59978d3604a15",
            "icon": "upload"
          }
        },
        "9da183bbc33044e8bc3f9c1635c62be3": {
          "model_module": "@jupyter-widgets/controls",
          "model_name": "ButtonModel",
          "state": {
            "_view_name": "ButtonView",
            "style": "IPY_MODEL_413077646b4a4354bd652e5dce3fc6a8",
            "_dom_classes": [],
            "description": "Classify",
            "_model_name": "ButtonModel",
            "button_style": "",
            "_view_module": "@jupyter-widgets/controls",
            "_model_module_version": "1.5.0",
            "tooltip": "",
            "_view_count": null,
            "disabled": false,
            "_view_module_version": "1.5.0",
            "layout": "IPY_MODEL_deecc246d05445e7b4d95db482fe250e",
            "_model_module": "@jupyter-widgets/controls",
            "icon": ""
          }
        },
        "1f8dab1582024671bf845eda881add4c": {
          "model_module": "@jupyter-widgets/output",
          "model_name": "OutputModel",
          "state": {
            "_view_name": "OutputView",
            "msg_id": "",
            "_dom_classes": [],
            "_model_name": "OutputModel",
            "outputs": [
              {
                "output_type": "display_data",
                "metadata": {
                  "tags": []
                },
                "image/png": "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\n",
                "text/plain": "<PIL.Image.Image image mode=RGB size=128x128 at 0x7EFDFCA337D0>"
              }
            ],
            "_view_module": "@jupyter-widgets/output",
            "_model_module_version": "1.0.0",
            "_view_count": null,
            "_view_module_version": "1.0.0",
            "layout": "IPY_MODEL_41f69096fadf4cf3bb77a74bba4116fc",
            "_model_module": "@jupyter-widgets/output"
          }
        },
        "baf8e625967f4625854f018ac19e31a7": {
          "model_module": "@jupyter-widgets/controls",
          "model_name": "LabelModel",
          "state": {
            "_view_name": "LabelView",
            "style": "IPY_MODEL_46a59b5e68a34ee99041b81ffda0746b",
            "_dom_classes": [],
            "description": "",
            "_model_name": "LabelModel",
            "placeholder": "​",
            "_view_module": "@jupyter-widgets/controls",
            "_model_module_version": "1.5.0",
            "value": "Prediction: teddy; Probability: 0.9997",
            "_view_count": null,
            "_view_module_version": "1.5.0",
            "description_tooltip": null,
            "_model_module": "@jupyter-widgets/controls",
            "layout": "IPY_MODEL_65a1ff020ef44a238e9a4c0f76e9e5c8"
          }
        },
        "53d67d62dffc4e258f45ee5d646cbdfd": {
          "model_module": "@jupyter-widgets/controls",
          "model_name": "DescriptionStyleModel",
          "state": {
            "_view_name": "StyleView",
            "_model_name": "DescriptionStyleModel",
            "description_width": "",
            "_view_module": "@jupyter-widgets/base",
            "_model_module_version": "1.5.0",
            "_view_count": null,
            "_view_module_version": "1.2.0",
            "_model_module": "@jupyter-widgets/controls"
          }
        },
        "3acc42a09725446288e28800b7a94b28": {
          "model_module": "@jupyter-widgets/base",
          "model_name": "LayoutModel",
          "state": {
            "_view_name": "LayoutView",
            "grid_template_rows": null,
            "right": null,
            "justify_content": null,
            "_view_module": "@jupyter-widgets/base",
            "overflow": null,
            "_model_module_version": "1.2.0",
            "_view_count": null,
            "flex_flow": null,
            "width": null,
            "min_width": null,
            "border": null,
            "align_items": null,
            "bottom": null,
            "_model_module": "@jupyter-widgets/base",
            "top": null,
            "grid_column": null,
            "overflow_y": null,
            "overflow_x": null,
            "grid_auto_flow": null,
            "grid_area": null,
            "grid_template_columns": null,
            "flex": null,
            "_model_name": "LayoutModel",
            "justify_items": null,
            "grid_row": null,
            "max_height": null,
            "align_content": null,
            "visibility": null,
            "align_self": null,
            "height": null,
            "min_height": null,
            "padding": null,
            "grid_auto_rows": null,
            "grid_gap": null,
            "max_width": null,
            "order": null,
            "_view_module_version": "1.2.0",
            "grid_template_areas": null,
            "object_position": null,
            "object_fit": null,
            "grid_auto_columns": null,
            "margin": null,
            "display": null,
            "left": null
          }
        },
        "3bc7fe6d26df43eb9f7a8653cbc960e5": {
          "model_module": "@jupyter-widgets/controls",
          "model_name": "ButtonStyleModel",
          "state": {
            "_view_name": "StyleView",
            "_model_name": "ButtonStyleModel",
            "_view_module": "@jupyter-widgets/base",
            "_model_module_version": "1.5.0",
            "_view_count": null,
            "button_color": null,
            "font_weight": "",
            "_view_module_version": "1.2.0",
            "_model_module": "@jupyter-widgets/controls"
          }
        },
        "41880380a1f548d390b59978d3604a15": {
          "model_module": "@jupyter-widgets/base",
          "model_name": "LayoutModel",
          "state": {
            "_view_name": "LayoutView",
            "grid_template_rows": null,
            "right": null,
            "justify_content": null,
            "_view_module": "@jupyter-widgets/base",
            "overflow": null,
            "_model_module_version": "1.2.0",
            "_view_count": null,
            "flex_flow": null,
            "width": null,
            "min_width": null,
            "border": null,
            "align_items": null,
            "bottom": null,
            "_model_module": "@jupyter-widgets/base",
            "top": null,
            "grid_column": null,
            "overflow_y": null,
            "overflow_x": null,
            "grid_auto_flow": null,
            "grid_area": null,
            "grid_template_columns": null,
            "flex": null,
            "_model_name": "LayoutModel",
            "justify_items": null,
            "grid_row": null,
            "max_height": null,
            "align_content": null,
            "visibility": null,
            "align_self": null,
            "height": null,
            "min_height": null,
            "padding": null,
            "grid_auto_rows": null,
            "grid_gap": null,
            "max_width": null,
            "order": null,
            "_view_module_version": "1.2.0",
            "grid_template_areas": null,
            "object_position": null,
            "object_fit": null,
            "grid_auto_columns": null,
            "margin": null,
            "display": null,
            "left": null
          }
        },
        "413077646b4a4354bd652e5dce3fc6a8": {
          "model_module": "@jupyter-widgets/controls",
          "model_name": "ButtonStyleModel",
          "state": {
            "_view_name": "StyleView",
            "_model_name": "ButtonStyleModel",
            "_view_module": "@jupyter-widgets/base",
            "_model_module_version": "1.5.0",
            "_view_count": null,
            "button_color": null,
            "font_weight": "",
            "_view_module_version": "1.2.0",
            "_model_module": "@jupyter-widgets/controls"
          }
        },
        "deecc246d05445e7b4d95db482fe250e": {
          "model_module": "@jupyter-widgets/base",
          "model_name": "LayoutModel",
          "state": {
            "_view_name": "LayoutView",
            "grid_template_rows": null,
            "right": null,
            "justify_content": null,
            "_view_module": "@jupyter-widgets/base",
            "overflow": null,
            "_model_module_version": "1.2.0",
            "_view_count": null,
            "flex_flow": null,
            "width": null,
            "min_width": null,
            "border": null,
            "align_items": null,
            "bottom": null,
            "_model_module": "@jupyter-widgets/base",
            "top": null,
            "grid_column": null,
            "overflow_y": null,
            "overflow_x": null,
            "grid_auto_flow": null,
            "grid_area": null,
            "grid_template_columns": null,
            "flex": null,
            "_model_name": "LayoutModel",
            "justify_items": null,
            "grid_row": null,
            "max_height": null,
            "align_content": null,
            "visibility": null,
            "align_self": null,
            "height": null,
            "min_height": null,
            "padding": null,
            "grid_auto_rows": null,
            "grid_gap": null,
            "max_width": null,
            "order": null,
            "_view_module_version": "1.2.0",
            "grid_template_areas": null,
            "object_position": null,
            "object_fit": null,
            "grid_auto_columns": null,
            "margin": null,
            "display": null,
            "left": null
          }
        },
        "46a59b5e68a34ee99041b81ffda0746b": {
          "model_module": "@jupyter-widgets/controls",
          "model_name": "DescriptionStyleModel",
          "state": {
            "_view_name": "StyleView",
            "_model_name": "DescriptionStyleModel",
            "description_width": "",
            "_view_module": "@jupyter-widgets/base",
            "_model_module_version": "1.5.0",
            "_view_count": null,
            "_view_module_version": "1.2.0",
            "_model_module": "@jupyter-widgets/controls"
          }
        },
        "65a1ff020ef44a238e9a4c0f76e9e5c8": {
          "model_module": "@jupyter-widgets/base",
          "model_name": "LayoutModel",
          "state": {
            "_view_name": "LayoutView",
            "grid_template_rows": null,
            "right": null,
            "justify_content": null,
            "_view_module": "@jupyter-widgets/base",
            "overflow": null,
            "_model_module_version": "1.2.0",
            "_view_count": null,
            "flex_flow": null,
            "width": null,
            "min_width": null,
            "border": null,
            "align_items": null,
            "bottom": null,
            "_model_module": "@jupyter-widgets/base",
            "top": null,
            "grid_column": null,
            "overflow_y": null,
            "overflow_x": null,
            "grid_auto_flow": null,
            "grid_area": null,
            "grid_template_columns": null,
            "flex": null,
            "_model_name": "LayoutModel",
            "justify_items": null,
            "grid_row": null,
            "max_height": null,
            "align_content": null,
            "visibility": null,
            "align_self": null,
            "height": null,
            "min_height": null,
            "padding": null,
            "grid_auto_rows": null,
            "grid_gap": null,
            "max_width": null,
            "order": null,
            "_view_module_version": "1.2.0",
            "grid_template_areas": null,
            "object_position": null,
            "object_fit": null,
            "grid_auto_columns": null,
            "margin": null,
            "display": null,
            "left": null
          }
        },
        "41f69096fadf4cf3bb77a74bba4116fc": {
          "model_module": "@jupyter-widgets/base",
          "model_name": "LayoutModel",
          "state": {
            "_view_name": "LayoutView",
            "grid_template_rows": null,
            "right": null,
            "justify_content": null,
            "_view_module": "@jupyter-widgets/base",
            "overflow": null,
            "_model_module_version": "1.2.0",
            "_view_count": null,
            "flex_flow": null,
            "width": null,
            "min_width": null,
            "border": null,
            "align_items": null,
            "bottom": null,
            "_model_module": "@jupyter-widgets/base",
            "top": null,
            "grid_column": null,
            "overflow_y": null,
            "overflow_x": null,
            "grid_auto_flow": null,
            "grid_area": null,
            "grid_template_columns": null,
            "flex": null,
            "_model_name": "LayoutModel",
            "justify_items": null,
            "grid_row": null,
            "max_height": null,
            "align_content": null,
            "visibility": null,
            "align_self": null,
            "height": null,
            "min_height": null,
            "padding": null,
            "grid_auto_rows": null,
            "grid_gap": null,
            "max_width": null,
            "order": null,
            "_view_module_version": "1.2.0",
            "grid_template_areas": null,
            "object_position": null,
            "object_fit": null,
            "grid_auto_columns": null,
            "margin": null,
            "display": null,
            "left": null
          }
        }
      }
    },
    "accelerator": "GPU"
  },
  "cells": [
    {
      "cell_type": "markdown",
      "metadata": {
        "id": "view-in-github",
        "colab_type": "text"
      },
      "source": [
        "<a href=\"https://colab.research.google.com/github/mhelshou/fastai/blob/main/bear_app.ipynb\" target=\"_parent\"><img src=\"https://colab.research.google.com/assets/colab-badge.svg\" alt=\"Open In Colab\"/></a>"
      ]
    },
    {
      "cell_type": "code",
      "metadata": {
        "colab": {
          "base_uri": "https://localhost:8080/"
        },
        "id": "gqdIGH21kEYE",
        "outputId": "e5f9cc8a-5626-46d7-ed32-0596bc329f08"
      },
      "source": [
        "!pip install -Uqq fastbook"
      ],
      "execution_count": 1,
      "outputs": [
        {
          "output_type": "stream",
          "text": [
            "\u001b[K     |████████████████████████████████| 727kB 17.8MB/s \n",
            "\u001b[K     |████████████████████████████████| 51kB 7.8MB/s \n",
            "\u001b[K     |████████████████████████████████| 194kB 53.3MB/s \n",
            "\u001b[K     |████████████████████████████████| 1.2MB 42.9MB/s \n",
            "\u001b[K     |████████████████████████████████| 61kB 8.8MB/s \n",
            "\u001b[K     |████████████████████████████████| 51kB 8.3MB/s \n",
            "\u001b[K     |████████████████████████████████| 776.8MB 24kB/s \n",
            "\u001b[K     |████████████████████████████████| 12.8MB 248kB/s \n",
            "\u001b[31mERROR: torchtext 0.9.0 has requirement torch==1.8.0, but you'll have torch 1.7.1 which is incompatible.\u001b[0m\n",
            "\u001b[?25h"
          ],
          "name": "stdout"
        }
      ]
    },
    {
      "cell_type": "code",
      "metadata": {
        "id": "pKpW4DT4x7tH"
      },
      "source": [
        "#!pip install voila\n",
        "#!jupyter serverextension enable voila --sys-prefix"
      ],
      "execution_count": 2,
      "outputs": []
    },
    {
      "cell_type": "code",
      "metadata": {
        "colab": {
          "base_uri": "https://localhost:8080/"
        },
        "id": "tjB_5zN1kGqk",
        "outputId": "4ba013d3-9c37-4528-e32d-efbc44129ab9"
      },
      "source": [
        "import fastbook\n",
        "fastbook.setup_book()"
      ],
      "execution_count": 3,
      "outputs": [
        {
          "output_type": "stream",
          "text": [
            "Mounted at /content/gdrive\n"
          ],
          "name": "stdout"
        }
      ]
    },
    {
      "cell_type": "code",
      "metadata": {
        "id": "PQRdRw3IkJTM"
      },
      "source": [
        "from fastbook import *\n",
        "from fastai.vision.widgets import *"
      ],
      "execution_count": 4,
      "outputs": []
    },
    {
      "cell_type": "code",
      "metadata": {
        "colab": {
          "base_uri": "https://localhost:8080/"
        },
        "id": "zWfouh3IkYNr",
        "outputId": "4e6c7784-de17-43c7-e863-ae49c98fa82b"
      },
      "source": [
        "path = Path('gdrive/MyDrive')\n",
        "path.ls(file_exts='.pkl')"
      ],
      "execution_count": 5,
      "outputs": [
        {
          "output_type": "execute_result",
          "data": {
            "text/plain": [
              "(#1) [Path('gdrive/MyDrive/export.pkl')]"
            ]
          },
          "metadata": {
            "tags": []
          },
          "execution_count": 5
        }
      ]
    },
    {
      "cell_type": "code",
      "metadata": {
        "id": "gnuZ2w2LkhRE"
      },
      "source": [
        "learn_inf = load_learner(path/'export.pkl')"
      ],
      "execution_count": 6,
      "outputs": []
    },
    {
      "cell_type": "code",
      "metadata": {
        "id": "8l2pD4bLkpij"
      },
      "source": [
        "btn_run = widgets.Button(description='Classify')\n",
        "out_pl = widgets.Output()\n",
        "lbl_pred = widgets.Label()\n",
        "\n",
        "def on_click_classify(change):\n",
        "    img = PILImage.create(btn_upload.data[-1])\n",
        "    out_pl.clear_output()\n",
        "    with out_pl: display(img.to_thumb(128,128))\n",
        "    pred,pred_idx,probs = learn_inf.predict(img)\n",
        "    lbl_pred.value = f'Prediction: {pred}; Probability: {probs[pred_idx]:.04f}'\n",
        "\n",
        "btn_run.on_click(on_click_classify)"
      ],
      "execution_count": 7,
      "outputs": []
    },
    {
      "cell_type": "code",
      "metadata": {
        "colab": {
          "base_uri": "https://localhost:8080/",
          "height": 273,
          "referenced_widgets": [
            "c4e775b561f944eb9336966781928382",
            "ebe1e2d9e24b44778e53d4d0599e713a",
            "334815c47f704bd483a6487eebc507be",
            "7297a45dc6204c159e57c405ddf1cdae",
            "9da183bbc33044e8bc3f9c1635c62be3",
            "1f8dab1582024671bf845eda881add4c",
            "baf8e625967f4625854f018ac19e31a7",
            "53d67d62dffc4e258f45ee5d646cbdfd",
            "3acc42a09725446288e28800b7a94b28",
            "3bc7fe6d26df43eb9f7a8653cbc960e5",
            "41880380a1f548d390b59978d3604a15",
            "413077646b4a4354bd652e5dce3fc6a8",
            "deecc246d05445e7b4d95db482fe250e",
            "46a59b5e68a34ee99041b81ffda0746b",
            "65a1ff020ef44a238e9a4c0f76e9e5c8",
            "41f69096fadf4cf3bb77a74bba4116fc"
          ]
        },
        "id": "IyQtLxBckqSK",
        "outputId": "2e27bb32-9c16-42fa-910e-f654bf573992"
      },
      "source": [
        "btn_upload = widgets.FileUpload()\n",
        "VBox([widgets.Label('Select your bear!'), \n",
        "      btn_upload, btn_run, out_pl, lbl_pred])"
      ],
      "execution_count": 8,
      "outputs": [
        {
          "output_type": "display_data",
          "data": {
            "application/vnd.jupyter.widget-view+json": {
              "model_id": "c4e775b561f944eb9336966781928382",
              "version_minor": 0,
              "version_major": 2
            },
            "text/plain": [
              "VBox(children=(Label(value='Select your bear!'), FileUpload(value={}, description='Upload'), Button(descriptio…"
            ]
          },
          "metadata": {
            "tags": []
          }
        },
        {
          "output_type": "display_data",
          "data": {
            "text/html": [
              ""
            ],
            "text/plain": [
              "<IPython.core.display.HTML object>"
            ]
          },
          "metadata": {
            "tags": []
          }
        }
      ]
    },
    {
      "cell_type": "code",
      "metadata": {
        "id": "xWMlAQr-lt6A"
      },
      "source": [
        ""
      ],
      "execution_count": 8,
      "outputs": []
    },
    {
      "cell_type": "code",
      "metadata": {
        "id": "KfzwcrJRx624"
      },
      "source": [
        ""
      ],
      "execution_count": 8,
      "outputs": []
    }
  ]
}